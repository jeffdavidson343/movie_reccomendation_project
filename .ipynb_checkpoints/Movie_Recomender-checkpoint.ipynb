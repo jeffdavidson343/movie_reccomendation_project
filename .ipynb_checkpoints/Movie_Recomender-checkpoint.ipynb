{
 "cells": [
  {
   "cell_type": "code",
   "execution_count": 1,
   "id": "085644fb",
   "metadata": {},
   "outputs": [
    {
     "ename": "ModuleNotFoundError",
     "evalue": "No module named 'tensorflow'",
     "output_type": "error",
     "traceback": [
      "\u001b[1;31m---------------------------------------------------------------------------\u001b[0m",
      "\u001b[1;31mModuleNotFoundError\u001b[0m                       Traceback (most recent call last)",
      "Cell \u001b[1;32mIn[1], line 17\u001b[0m\n\u001b[0;32m     13\u001b[0m \u001b[38;5;28;01mimport\u001b[39;00m \u001b[38;5;21;01mrequests\u001b[39;00m\n\u001b[0;32m     14\u001b[0m \u001b[38;5;28;01mimport\u001b[39;00m \u001b[38;5;21;01mmath\u001b[39;00m\n\u001b[1;32m---> 17\u001b[0m \u001b[38;5;28;01mimport\u001b[39;00m \u001b[38;5;21;01mtensorflow\u001b[39;00m \u001b[38;5;28;01mas\u001b[39;00m \u001b[38;5;21;01mtf\u001b[39;00m\n\u001b[0;32m     18\u001b[0m \u001b[38;5;28;01mfrom\u001b[39;00m \u001b[38;5;21;01mtensorflow\u001b[39;00m \u001b[38;5;28;01mimport\u001b[39;00m keras\n\u001b[0;32m     19\u001b[0m \u001b[38;5;28;01mfrom\u001b[39;00m \u001b[38;5;21;01mtensorflow\u001b[39;00m\u001b[38;5;21;01m.\u001b[39;00m\u001b[38;5;21;01mkeras\u001b[39;00m \u001b[38;5;28;01mimport\u001b[39;00m layers\n",
      "\u001b[1;31mModuleNotFoundError\u001b[0m: No module named 'tensorflow'"
     ]
    }
   ],
   "source": [
    "# import dependencies\n",
    "import pandas as pd\n",
    "import numpy as np\n",
    "from numpy import array\n",
    "from numpy import asarray\n",
    "from numpy import zeros\n",
    "import seaborn as sns\n",
    "import matplotlib.pyplot as plt\n",
    "%matplotlib inline\n",
    "import os.path\n",
    "import re\n",
    "import pickle\n",
    "import requests\n",
    "import math\n",
    "\n",
    "\n",
    "import tensorflow as tf\n",
    "from tensorflow import keras\n",
    "from tensorflow.keras import layers\n",
    "\n",
    "from sklearn.metrics import mean_absolute_error, mean_squared_error\n",
    "from sklearn.feature_extraction.text import TfidfVectorizer\n",
    "from sklearn.model_selection import train_test_split\n"
   ]
  },
  {
   "cell_type": "code",
   "execution_count": null,
   "id": "1295280d",
   "metadata": {},
   "outputs": [],
   "source": [
    "movies = pd.read_csv(\"movies.csv\")\n",
    "ratings = pd.read_csv(\"ratings.csv\")\n",
    "tags = pd.read_csv(\"tags.csv\")\n",
    "links = pd.read_csv(\"links.csv\")\n",
    "genome_tags = pd.read_csv(\"genome_tags.csv\")\n",
    "genome_scores = pd.read_csv(\"genome_scores.csv\")"
   ]
  },
  {
   "cell_type": "code",
   "execution_count": null,
   "id": "0f796cc1",
   "metadata": {},
   "outputs": [],
   "source": [
    "%%time\n",
    "user_ids = ratings.userId.unique().tolist()\n",
    "user2idx = {userId: idx for (idx, userId) in enumerate(user_ids)}\n",
    "idx2user = {idx: userId for (idx, userId) in enumerate(user_ids)}\n",
    "ratings.userId = ratings.userId.map(user2idx)\n",
    "\n",
    "movie_ids = ratings.movieId.unique().tolist()\n",
    "movie2idx = {movieId: idx for (idx, movieId) in enumerate(movie_ids)}\n",
    "idx2movie = {idx: movieId for (idx, movieId) in enumerate(movie_ids)}\n",
    "ratings.movieId = ratings.movieId.map(movie2idx)\n",
    "\n",
    "# map rest\n",
    "tags.movieId = tags.movieId.map(movie2idx)\n",
    "movies.movieId = movies.movieId.map(movie2idx)\n",
    "links.movieId = links.movieId.map(movie2idx)"
   ]
  },
  {
   "cell_type": "code",
   "execution_count": null,
   "id": "5718fdb7",
   "metadata": {},
   "outputs": [],
   "source": [
    "num_users = int(ratings.userId.nunique())\n",
    "num_movies = int(ratings.movieId.nunique())\n",
    "ratings[\"rating\"] = ratings[\"rating\"].values.astype(np.float32)\n",
    "# min and max ratings will be used to normalize the ratings later\n",
    "min_rating = min(ratings[\"rating\"])\n",
    "max_rating = max(ratings[\"rating\"])\n",
    "\n",
    "print(\n",
    "    \"Number of users: {}, Number of Movies: {}, Min rating: {}, Max rating: {}\".format(\n",
    "        num_users, num_movies, min_rating, max_rating\n",
    "    )\n",
    ")\n"
   ]
  },
  {
   "cell_type": "code",
   "execution_count": null,
   "id": "75a60b39",
   "metadata": {},
   "outputs": [],
   "source": [
    "# drop some columns we do not care about\n",
    "ratings = ratings.drop(\"timestamp\", axis=1)\n",
    "tags = tags.drop(\"timestamp\", axis=1)"
   ]
  },
  {
   "cell_type": "code",
   "execution_count": null,
   "id": "333da226",
   "metadata": {},
   "outputs": [],
   "source": [
    "# drop duplicates for ratings for content \n",
    "ratings_content = ratings.drop_duplicates(\"movieId\")"
   ]
  },
  {
   "cell_type": "code",
   "execution_count": null,
   "id": "d6ce0445",
   "metadata": {},
   "outputs": [],
   "source": [
    "# we need take make sure that we have equal movies and ratings.\n",
    "movies.isnull().sum()"
   ]
  },
  {
   "cell_type": "code",
   "execution_count": null,
   "id": "d65bf7d5",
   "metadata": {},
   "outputs": [],
   "source": [
    "\n",
    "movies[~movies.movieId.isin(ratings_content.movieId)]"
   ]
  },
  {
   "cell_type": "code",
   "execution_count": null,
   "id": "1b95bac9",
   "metadata": {},
   "outputs": [],
   "source": [
    "\n",
    "movies = movies[movies['movieId'].notna()]"
   ]
  },
  {
   "cell_type": "code",
   "execution_count": null,
   "id": "f7ae6e6c",
   "metadata": {},
   "outputs": [],
   "source": [
    "movies.isnull().sum()"
   ]
  },
  {
   "cell_type": "code",
   "execution_count": null,
   "id": "793d0b29",
   "metadata": {},
   "outputs": [],
   "source": [
    "# basic stats\n",
    "print(\"{} unique movies in ratings_content\".format(len(ratings_content.movieId.unique())))\n",
    "print(\"{} unique movies in tags.csv\".format(len(tags.movieId.unique())))\n",
    "print(\"{} unique movies in movies.csv\".format(len(movies.movieId.unique())))"
   ]
  },
  {
   "cell_type": "code",
   "execution_count": null,
   "id": "c1e3ebf2",
   "metadata": {},
   "outputs": [],
   "source": [
    "# do we have tags with movies that do NOT have a ratings?\n",
    "len(tags[~tags[\"movieId\"].isin(ratings_content.movieId)][\"movieId\"].unique())"
   ]
  },
  {
   "cell_type": "code",
   "execution_count": null,
   "id": "1743319a",
   "metadata": {},
   "outputs": [],
   "source": [
    "# movies that are not in ratings, should be removed (using right join)\n",
    "tags_content = pd.merge(tags, ratings_content, on=\"movieId\", how=\"right\")"
   ]
  },
  {
   "cell_type": "code",
   "execution_count": null,
   "id": "08dd30c7",
   "metadata": {},
   "outputs": [],
   "source": [
    "\n",
    "tags_content[tags_content.movieId == 0]"
   ]
  },
  {
   "cell_type": "code",
   "execution_count": null,
   "id": "96b996f1",
   "metadata": {},
   "outputs": [],
   "source": [
    "tags_content.head()"
   ]
  },
  {
   "cell_type": "code",
   "execution_count": null,
   "id": "a0d7f299",
   "metadata": {},
   "outputs": [],
   "source": [
    "len(tags[~tags[\"movieId\"].isin(ratings_content.movieId)][\"movieId\"].unique())"
   ]
  },
  {
   "cell_type": "code",
   "execution_count": null,
   "id": "650fb308",
   "metadata": {},
   "outputs": [],
   "source": [
    "# after some clean\n",
    "print(\"{} unique movies in ratings_content\".format(len(ratings_content.movieId.unique())))\n",
    "print(\"{} unique movies in tags_content\".format(len(tags_content.movieId.unique())))\n",
    "print(\"{} unique movies in movies.csv\".format(len(movies.movieId.unique())))"
   ]
  },
  {
   "cell_type": "code",
   "execution_count": null,
   "id": "27178e60",
   "metadata": {},
   "outputs": [],
   "source": [
    "# handle genres (remove all non alphabet characters)\n",
    "movies['genres'] = movies['genres'].str.replace(pat=\"|\", repl=\" \")\n",
    "movies['genres'] = movies['genres'].str.replace(pat=\"-\", repl=\"\")\n",
    "movies['genres'] = movies['genres'].str.replace(pat=\"(no genres listed)\", repl=\"\")\n",
    "movies['genres'] = movies['genres'].str.replace(pat=\"(\", repl=\"\")\n",
    "movies['genres'] = movies['genres'].str.replace(pat=\")\", repl=\"\")\n",
    "movies.head()"
   ]
  },
  {
   "cell_type": "code",
   "execution_count": null,
   "id": "5913e989",
   "metadata": {},
   "outputs": [],
   "source": [
    "# merge movies with ratings and map idx\n",
    "movies_content = pd.merge(movies, ratings_content, on=\"movieId\", how=\"inner\")"
   ]
  },
  {
   "cell_type": "code",
   "execution_count": null,
   "id": "4290b0d8",
   "metadata": {},
   "outputs": [],
   "source": [
    "movies.query(\"title == 'Batman Begins (2005)'\")"
   ]
  },
  {
   "cell_type": "code",
   "execution_count": null,
   "id": "af8628a8",
   "metadata": {},
   "outputs": [],
   "source": [
    "# there is some nans in tags\n",
    "tags_content.isnull().sum().sort_values(ascending = False)"
   ]
  },
  {
   "cell_type": "code",
   "execution_count": null,
   "id": "4904e472",
   "metadata": {},
   "outputs": [],
   "source": [
    "# fill some nans \n",
    "tags_content.fillna(\"\", inplace=True)"
   ]
  },
  {
   "cell_type": "code",
   "execution_count": null,
   "id": "461ae2fa",
   "metadata": {},
   "outputs": [],
   "source": [
    "tags_content.isnull().sum().sort_values(ascending = False)"
   ]
  },
  {
   "cell_type": "code",
   "execution_count": null,
   "id": "c4f0efa0",
   "metadata": {},
   "outputs": [],
   "source": [
    "tags_content = pd.DataFrame(tags_content.groupby('movieId')['tag'].apply(lambda x: \"%s\" % ' '.join(x)))\n",
    "tags_content.reset_index(inplace=True)"
   ]
  },
  {
   "cell_type": "code",
   "execution_count": null,
   "id": "4546c287",
   "metadata": {},
   "outputs": [],
   "source": [
    "tags_content.head()"
   ]
  },
  {
   "cell_type": "code",
   "execution_count": null,
   "id": "da0bc3e9",
   "metadata": {
    "scrolled": true
   },
   "outputs": [],
   "source": [
    "movies_content.head()"
   ]
  },
  {
   "cell_type": "code",
   "execution_count": null,
   "id": "b296ee08",
   "metadata": {},
   "outputs": [],
   "source": [
    "# group tags by movie id to create corpus\n",
    "content_data = pd.merge(movies_content, tags_content, on=\"movieId\", how=\"right\")\n",
    "content_data[\"corpus\"] = content_data[[\"genres\", \"tag\"]].apply(lambda x: \" \".join(x), axis=1)"
   ]
  },
  {
   "cell_type": "code",
   "execution_count": null,
   "id": "33af37b7",
   "metadata": {},
   "outputs": [],
   "source": [
    "\n",
    "movies_content[movies_content.movieId == 245]"
   ]
  },
  {
   "cell_type": "code",
   "execution_count": null,
   "id": "1c16794b",
   "metadata": {},
   "outputs": [],
   "source": [
    "content_data[content_data.movieId == 245]"
   ]
  },
  {
   "cell_type": "code",
   "execution_count": null,
   "id": "64843ffd",
   "metadata": {},
   "outputs": [],
   "source": [
    "# drop items we do not need \n",
    "content_data = content_data.drop(\"rating\", axis=1)\n",
    "content_data = content_data.drop(\"userId\", axis=1)"
   ]
  },
  {
   "cell_type": "code",
   "execution_count": null,
   "id": "b98881d3",
   "metadata": {},
   "outputs": [],
   "source": [
    "content_data.head()"
   ]
  },
  {
   "cell_type": "code",
   "execution_count": null,
   "id": "2ae2c30e",
   "metadata": {},
   "outputs": [],
   "source": [
    "# find ratings count and mean\n",
    "movie_summary = pd.DataFrame(ratings.groupby('movieId')['rating'].mean())\n",
    "movie_summary['ratings_count'] = ratings.groupby('movieId')['rating'].count()\n",
    "movie_summary.head()"
   ]
  },
  {
   "cell_type": "code",
   "execution_count": null,
   "id": "7130f545",
   "metadata": {},
   "outputs": [],
   "source": [
    "# merge with content data\n",
    "content_data = pd.merge(content_data, movie_summary, on=\"movieId\", how=\"left\")\n",
    "content_data.head()\n"
   ]
  },
  {
   "cell_type": "code",
   "execution_count": null,
   "id": "a317a9c1",
   "metadata": {},
   "outputs": [],
   "source": [
    "content_data.shape"
   ]
  },
  {
   "cell_type": "code",
   "execution_count": null,
   "id": "b6acc602",
   "metadata": {},
   "outputs": [],
   "source": [
    "\n",
    "C = content_data[\"rating\"].mean()\n",
    "print(C)\n",
    "m = content_data[\"ratings_count\"].quantile(0.90)\n",
    "print(m)"
   ]
  },
  {
   "cell_type": "code",
   "execution_count": null,
   "id": "e95ef145",
   "metadata": {},
   "outputs": [],
   "source": [
    "# weighted ratings based on IMDB\n",
    "def weighted_rating(x):\n",
    "    v = x['ratings_count']\n",
    "    R = x['rating']\n",
    "    return (v / (v + m) * R) + (m / (m + v) * C)"
   ]
  },
  {
   "cell_type": "code",
   "execution_count": null,
   "id": "0a263822",
   "metadata": {},
   "outputs": [],
   "source": [
    "\n",
    "content_data[\"weighted_rating\"] = content_data.apply(weighted_rating, axis=1)"
   ]
  },
  {
   "cell_type": "code",
   "execution_count": null,
   "id": "4e284d6a",
   "metadata": {},
   "outputs": [],
   "source": [
    "content_data = pd.merge(content_data, links, on=\"movieId\", how=\"left\")"
   ]
  },
  {
   "cell_type": "code",
   "execution_count": null,
   "id": "461abf23",
   "metadata": {},
   "outputs": [],
   "source": [
    "content_data.sort_values(\"weighted_rating\", ascending=False).head(20)"
   ]
  },
  {
   "cell_type": "code",
   "execution_count": null,
   "id": "653ab631",
   "metadata": {},
   "outputs": [],
   "source": []
  },
  {
   "cell_type": "code",
   "execution_count": null,
   "id": "dbab25dd",
   "metadata": {},
   "outputs": [],
   "source": []
  },
  {
   "cell_type": "code",
   "execution_count": null,
   "id": "154247d5",
   "metadata": {},
   "outputs": [],
   "source": []
  },
  {
   "cell_type": "code",
   "execution_count": null,
   "id": "7ed78719",
   "metadata": {},
   "outputs": [],
   "source": []
  }
 ],
 "metadata": {
  "kernelspec": {
   "display_name": "Python 3 (ipykernel)",
   "language": "python",
   "name": "python3"
  },
  "language_info": {
   "codemirror_mode": {
    "name": "ipython",
    "version": 3
   },
   "file_extension": ".py",
   "mimetype": "text/x-python",
   "name": "python",
   "nbconvert_exporter": "python",
   "pygments_lexer": "ipython3",
   "version": "3.10.12"
  }
 },
 "nbformat": 4,
 "nbformat_minor": 5
}
